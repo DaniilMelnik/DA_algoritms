{
 "cells": [
  {
   "cell_type": "code",
   "execution_count": 1,
   "metadata": {},
   "outputs": [],
   "source": [
    "import numpy as np\n",
    "from sklearn import datasets\n",
    "import matplotlib.pyplot as plt\n",
    "from sklearn.model_selection import train_test_split"
   ]
  },
  {
   "cell_type": "markdown",
   "metadata": {},
   "source": [
    "1. Можно ли отобрать наиболее значимые признаки с помощью PCA?"
   ]
  },
  {
   "cell_type": "code",
   "execution_count": 2,
   "metadata": {},
   "outputs": [],
   "source": [
    "class StandardScaler:\n",
    "    def fit(self, X):\n",
    "        self.means = X.mean(0)\n",
    "        self.std = X.std(0)\n",
    "    \n",
    "    def transform(self, X):\n",
    "        return (X - self.means) / self.std\n",
    "    \n",
    "    def inverse_transform(self, X):\n",
    "        return X * self.std + self.means"
   ]
  },
  {
   "cell_type": "code",
   "execution_count": 3,
   "metadata": {},
   "outputs": [],
   "source": [
    "def plot2D(X, y, feature_indexes:tuple):\n",
    "    plt.figure()\n",
    "    for c, i in zip(\"rgb\", [0, 1, 2]):\n",
    "        plt.scatter(X[y==i, feature_indexes[0]], X[y==i, feature_indexes[1]], c=c)\n",
    "    plt.xlabel('Главная компонента 1')\n",
    "    plt.ylabel('Главная компонента 2')\n",
    "    plt.title('PCA датасета')\n",
    "    plt.show()"
   ]
  },
  {
   "cell_type": "code",
   "execution_count": 4,
   "metadata": {},
   "outputs": [],
   "source": [
    "class PCA: \n",
    "    def __init__(self, n_components):\n",
    "        self.n_components = n_components\n",
    "        \n",
    "    def fit(self, X):\n",
    "        self.max_features = X.shape[1]\n",
    "        covariance_matrix = X.T.dot(X)\n",
    "        eig_values, eig_vectors = np.linalg.eig(covariance_matrix)\n",
    "        self.eig = [(np.abs(eig), eig_vectors[:, i]) for i, eig in enumerate(eig_values)]\n",
    "        eig_sum = sum(eig_values)\n",
    "        self.explaned_variance_ratio = [(i / eig_sum) * 100 for i in sorted(eig_values, reverse=True)]\n",
    "        self.eig.sort(key=lambda x: x[0], reverse=True)\n",
    "        \n",
    "    def transform(self, X):\n",
    "        W = np.hstack([self.eig[i][1].reshape(self.max_features,1) for i in range(self.n_components)])\n",
    "        return X.dot(W)"
   ]
  },
  {
   "cell_type": "code",
   "execution_count": 5,
   "metadata": {},
   "outputs": [],
   "source": [
    "iris = datasets.load_iris()\n",
    "X = iris.data\n",
    "y = iris.target\n",
    "X_train, X_test, y_train, y_test = train_test_split(X, y, test_size=0.25, random_state=42)"
   ]
  },
  {
   "cell_type": "code",
   "execution_count": 6,
   "metadata": {},
   "outputs": [],
   "source": [
    "scaler = StandardScaler()\n",
    "scaler.fit(X_train)\n",
    "X_train_scaled = scaler.transform(X_train)\n",
    "X_test_scaled = scaler.transform(X_test)\n",
    "\n",
    "pca = PCA(n_components=2)\n",
    "pca.fit(X_train_scaled)\n",
    "Z_train = pca.transform(X_train_scaled)\n",
    "Z_test = pca.transform(X_test_scaled)"
   ]
  },
  {
   "cell_type": "code",
   "execution_count": 7,
   "metadata": {},
   "outputs": [
    {
     "data": {
      "text/plain": [
       "[71.58179735625431, 23.72082736809803, 4.188111715453089, 0.5092635601945591]"
      ]
     },
     "execution_count": 7,
     "metadata": {},
     "output_type": "execute_result"
    }
   ],
   "source": [
    "pca.explaned_variance_ratio"
   ]
  },
  {
   "cell_type": "markdown",
   "metadata": {},
   "source": [
    "На основе метода PCA, видно что первые 2 признака объясняют большую часть дисперсии в данных"
   ]
  },
  {
   "cell_type": "code",
   "execution_count": 8,
   "metadata": {},
   "outputs": [
    {
     "data": {
      "image/png": "[encoded data removed]",
      "text/plain": [
       "<Figure size 432x288 with 1 Axes>"
      ]
     },
     "metadata": {
      "needs_background": "light"
     },
     "output_type": "display_data"
    }
   ],
   "source": [
    "plot2D(Z_train, y_train, (0, 1))"
   ]
  },
  {
   "cell_type": "markdown",
   "metadata": {},
   "source": [
    "Обучим модель логистической регрессии на попарных комбинациях признаков и сравним метрики"
   ]
  },
  {
   "cell_type": "code",
   "execution_count": 9,
   "metadata": {},
   "outputs": [],
   "source": [
    "from sklearn.linear_model import LogisticRegression\n",
    "from sklearn.metrics import classification_report"
   ]
  },
  {
   "cell_type": "code",
   "execution_count": 10,
   "metadata": {},
   "outputs": [
    {
     "name": "stdout",
     "output_type": "stream",
     "text": [
      "              precision    recall  f1-score   support\n",
      "\n",
      "           0       1.00      1.00      1.00        15\n",
      "           1       0.78      0.64      0.70        11\n",
      "           2       0.71      0.83      0.77        12\n",
      "\n",
      "    accuracy                           0.84        38\n",
      "   macro avg       0.83      0.82      0.82        38\n",
      "weighted avg       0.85      0.84      0.84        38\n",
      "\n"
     ]
    }
   ],
   "source": [
    "model = LogisticRegression(random_state=42)\n",
    "model.fit(X_train_scaled[:, :2], y_train)\n",
    "print(classification_report(y_test, model.predict(X_test_scaled[:, :2])))"
   ]
  },
  {
   "cell_type": "code",
   "execution_count": 11,
   "metadata": {},
   "outputs": [
    {
     "name": "stdout",
     "output_type": "stream",
     "text": [
      "              precision    recall  f1-score   support\n",
      "\n",
      "           0       1.00      1.00      1.00        15\n",
      "           1       1.00      1.00      1.00        11\n",
      "           2       1.00      1.00      1.00        12\n",
      "\n",
      "    accuracy                           1.00        38\n",
      "   macro avg       1.00      1.00      1.00        38\n",
      "weighted avg       1.00      1.00      1.00        38\n",
      "\n"
     ]
    }
   ],
   "source": [
    "model = LogisticRegression(random_state=42)\n",
    "model.fit(X_train_scaled[:, 1:3], y_train)\n",
    "print(classification_report(y_test, model.predict(X_test_scaled[:, 1:3])))"
   ]
  },
  {
   "cell_type": "code",
   "execution_count": 12,
   "metadata": {},
   "outputs": [
    {
     "data": {
      "image/png": "[encoded data removed]",
      "text/plain": [
       "<Figure size 432x288 with 1 Axes>"
      ]
     },
     "metadata": {
      "needs_background": "light"
     },
     "output_type": "display_data"
    }
   ],
   "source": [
    "plot2D(X_test_scaled[:, 1:3], y_test, (0, 1))"
   ]
  },
  {
   "cell_type": "markdown",
   "metadata": {},
   "source": [
    "* В случае обучения модели на признаках 1 и 3, классы полностью разделимы, в отличии от обучения на признаках 1 и 2. Следовательно метод PCA не может использоваться в качестве метода для отбора признаков. Так как скорее направлен на понижение размерности данных при максимально возможном описании их дисперсии."
   ]
  },
  {
   "cell_type": "markdown",
   "metadata": {},
   "source": [
    "(*) Обучить любую модель классификации на датасете IRIS до применения PCA и после него. Сравнить качество классификации по отложенной выборке."
   ]
  },
  {
   "cell_type": "code",
   "execution_count": 13,
   "metadata": {},
   "outputs": [
    {
     "name": "stdout",
     "output_type": "stream",
     "text": [
      "              precision    recall  f1-score   support\n",
      "\n",
      "           0       1.00      1.00      1.00        15\n",
      "           1       1.00      1.00      1.00        11\n",
      "           2       1.00      1.00      1.00        12\n",
      "\n",
      "    accuracy                           1.00        38\n",
      "   macro avg       1.00      1.00      1.00        38\n",
      "weighted avg       1.00      1.00      1.00        38\n",
      "\n"
     ]
    }
   ],
   "source": [
    "model = LogisticRegression(random_state=42)\n",
    "model.fit(X_train_scaled, y_train)\n",
    "print(classification_report(y_test, model.predict(X_test_scaled)))"
   ]
  },
  {
   "cell_type": "code",
   "execution_count": 14,
   "metadata": {},
   "outputs": [
    {
     "name": "stdout",
     "output_type": "stream",
     "text": [
      "n_components= 2\n",
      "              precision    recall  f1-score   support\n",
      "\n",
      "           0       1.00      1.00      1.00        15\n",
      "           1       0.90      0.82      0.86        11\n",
      "           2       0.85      0.92      0.88        12\n",
      "\n",
      "    accuracy                           0.92        38\n",
      "   macro avg       0.92      0.91      0.91        38\n",
      "weighted avg       0.92      0.92      0.92        38\n",
      "\n",
      "n_components= 3\n",
      "              precision    recall  f1-score   support\n",
      "\n",
      "           0       1.00      1.00      1.00        15\n",
      "           1       1.00      1.00      1.00        11\n",
      "           2       1.00      1.00      1.00        12\n",
      "\n",
      "    accuracy                           1.00        38\n",
      "   macro avg       1.00      1.00      1.00        38\n",
      "weighted avg       1.00      1.00      1.00        38\n",
      "\n"
     ]
    }
   ],
   "source": [
    "for n_components in range(2, 4):\n",
    "    pca = PCA(n_components=n_components)\n",
    "    pca.fit(X_train_scaled)\n",
    "    Z_train = pca.transform(X_train_scaled)\n",
    "    Z_test = pca.transform(X_test_scaled)\n",
    "    model = LogisticRegression(random_state=42)\n",
    "    model.fit(Z_train, y_train)\n",
    "    print('n_components=', n_components)\n",
    "    print(classification_report(y_test, model.predict(Z_test)))"
   ]
  },
  {
   "cell_type": "markdown",
   "metadata": {},
   "source": [
    "Метрики качества при применении PCA снижаются. На данном примере при снижении размерности до 3-х метрики остаются такими же как и без применения PCA"
   ]
  },
  {
   "cell_type": "markdown",
   "metadata": {},
   "source": [
    "(*) Написать свою реализацию метода главных компонент с помощью сингулярного разложения с использованием функции numpy.linalg.svd()"
   ]
  },
  {
   "cell_type": "code",
   "execution_count": 25,
   "metadata": {},
   "outputs": [],
   "source": [
    "class PCA_SVD: \n",
    "    def __init__(self, n_components):\n",
    "        self.n_components = n_components\n",
    "        \n",
    "    def fit(self, X):\n",
    "        self.max_features = X.shape[1]\n",
    "        _, W, Vt = np.linalg.svd(X)\n",
    "        self.eig = [(np.abs(w), v) for w, v in zip(W, Vt)]\n",
    "        eig_sum = sum(W)\n",
    "        self.explaned_variance_ratio = [(i / eig_sum) * 100 for i in sorted(W, reverse=True)]\n",
    "        self.eig.sort(key=lambda x: x[0], reverse=True)\n",
    "        \n",
    "    def transform(self, X):\n",
    "        W = np.hstack([self.eig[i][1].reshape(self.max_features,1) for i in range(self.n_components)])\n",
    "        return X.dot(W)"
   ]
  },
  {
   "cell_type": "code",
   "execution_count": 26,
   "metadata": {},
   "outputs": [
    {
     "data": {
      "image/png": "[encoded data removed]",
      "text/plain": [
       "<Figure size 432x288 with 1 Axes>"
      ]
     },
     "metadata": {
      "needs_background": "light"
     },
     "output_type": "display_data"
    }
   ],
   "source": [
    "iris = datasets.load_iris()\n",
    "X = iris.data\n",
    "y = iris.target\n",
    "X_train, X_test, y_train, y_test = train_test_split(X, y, test_size=0.25, random_state=42)\n",
    "\n",
    "scaler = StandardScaler()\n",
    "scaler.fit(X_train)\n",
    "X_train_scaled = scaler.transform(X_train)\n",
    "X_test_scaled = scaler.transform(X_test)\n",
    "\n",
    "pca = PCA_SVD(n_components=2)\n",
    "pca.fit(X_train_scaled)\n",
    "Z_train = pca.transform(X_train_scaled)\n",
    "Z_test = pca.transform(X_test_scaled)\n",
    "\n",
    "plot2D(Z_train, y_train, (0, 1))"
   ]
  }
 ],
 "metadata": {
  "kernelspec": {
   "display_name": "Python 3",
   "language": "python",
   "name": "python3"
  },
  "language_info": {
   "codemirror_mode": {
    "name": "ipython",
    "version": 3
   },
   "file_extension": ".py",
   "mimetype": "text/x-python",
   "name": "python",
   "nbconvert_exporter": "python",
   "pygments_lexer": "ipython3",
   "version": "3.8.5"
  }
 },
 "nbformat": 4,
 "nbformat_minor": 4
}
