{
 "cells": [
  {
   "cell_type": "code",
   "execution_count": 1,
   "metadata": {},
   "outputs": [],
   "source": [
    "import numpy as np\n",
    "from sklearn.metrics import log_loss\n",
    "import matplotlib.pyplot as plt"
   ]
  },
  {
   "cell_type": "markdown",
   "metadata": {},
   "source": [
    "1*. Измените функцию calc_logloss так, чтобы нули по возможности не попадали в np.log.  "
   ]
  },
  {
   "cell_type": "code",
   "execution_count": 2,
   "metadata": {},
   "outputs": [],
   "source": [
    "def calc_logloss(y, y_pred, eps=1e-15):\n",
    "    y_pred = np.where(y_pred > (1 - eps), 1 - eps, np.where(y_pred < eps, eps, y_pred))\n",
    "    err = - np.mean(y * np.log(y_pred) + (1.0 - y) * np.log(1.0 - y_pred))\n",
    "    return err"
   ]
  },
  {
   "cell_type": "code",
   "execution_count": 3,
   "metadata": {},
   "outputs": [],
   "source": [
    "assert calc_logloss(np.array([1., 1.]), np.array([0., 0.])) == calc_logloss(np.array([1., 1.]), np.array([1e-15, 1e-15]))\n",
    "assert calc_logloss(np.array([1., 1.]), np.array([1., 1.])) == calc_logloss(np.array([1., 1.]), np.array([1 - 1e-15, 1 - 1e-15]))\n",
    "assert calc_logloss(np.array([1., 0.]), np.array([0.8, 0.1])) == log_loss(np.array([1., 0.]), np.array([0.8, 0.1]))\n",
    "assert calc_logloss(np.array([1., 0.]), np.array([0., 0.])) == log_loss(np.array([1., 0.]), np.array([0., 0.]))"
   ]
  },
  {
   "cell_type": "markdown",
   "metadata": {},
   "source": [
    "2. Подберите аргументы функции eval_model для логистической регрессии таким образом, чтобы log loss был минимальным."
   ]
  },
  {
   "cell_type": "code",
   "execution_count": 4,
   "metadata": {},
   "outputs": [],
   "source": [
    "def sigmoid(z):\n",
    "    res = 1 / (1 + np.exp(-z))\n",
    "    return res\n",
    "\n",
    "def eval_model(X, y, iterations, alpha=1e-4):\n",
    "    np.random.seed(42)\n",
    "    W = np.random.randn(X.shape[0])\n",
    "    n = X.shape[1]\n",
    "    err_history = []\n",
    "    W_history = []\n",
    "    for i in range(1, iterations+1):\n",
    "        z = np.dot(W, X)\n",
    "        y_pred = sigmoid(z)\n",
    "        err = calc_logloss(y, y_pred, eps=1e-15)\n",
    "        W -= alpha * (1/n * np.dot((y_pred - y), X.T))\n",
    "        err_history.append(err)\n",
    "        W_history.append(W)\n",
    "    return W, err, np.array(err_history), np.array(W_history)"
   ]
  },
  {
   "cell_type": "code",
   "execution_count": 5,
   "metadata": {},
   "outputs": [],
   "source": [
    "X = np.array([[1, 1, 1, 1, 1, 1, 1, 1, 1, 1],\n",
    "              [1, 1, 2, 1, 3, 0, 5, 10, 1, 2],\n",
    "              [500, 700, 750, 600, 1450,\n",
    "               800, 1500, 2000, 450, 1000],\n",
    "              [1, 1, 2, 1, 2, 1, 3, 3, 1, 2]], dtype = np.float64)\n",
    "\n",
    "y = np.array([0, 0, 1, 0, 1, 0, 1, 0, 1, 1], dtype = np.float64)"
   ]
  },
  {
   "cell_type": "code",
   "execution_count": 6,
   "metadata": {},
   "outputs": [
    {
     "data": {
      "text/plain": [
       "(array([ 0.49579478, -0.14021162, -0.00414974,  1.52229183]),\n",
       " 0.8478930381998916)"
      ]
     },
     "execution_count": 6,
     "metadata": {},
     "output_type": "execute_result"
    }
   ],
   "source": [
    "W = eval_model(X, y, iterations=500, alpha=1e-5)\n",
    "W[:-2]"
   ]
  },
  {
   "cell_type": "markdown",
   "metadata": {},
   "source": [
    "Подберем способ масштабирования данных обеспечивающий минимальное значение функции потерь"
   ]
  },
  {
   "cell_type": "code",
   "execution_count": 7,
   "metadata": {},
   "outputs": [],
   "source": [
    "from sklearn.preprocessing import MinMaxScaler, RobustScaler, StandardScaler"
   ]
  },
  {
   "cell_type": "code",
   "execution_count": 8,
   "metadata": {},
   "outputs": [
    {
     "name": "stdout",
     "output_type": "stream",
     "text": [
      "best scaler: StandardScaler() loss: 0.6932149352667696\n"
     ]
    }
   ],
   "source": [
    "_, min_scaler_loss, _, _ = eval_model(X, y, iterations=500, alpha=1e-5)\n",
    "scalers = [MinMaxScaler(), RobustScaler(), StandardScaler()]\n",
    "best_scaler = None\n",
    "for scaler in scalers:\n",
    "    X_scaled = scaler.fit_transform(X)\n",
    "    _, scaler_loss, _, _ = eval_model(X_scaled, y, iterations=500, alpha=1e-4)\n",
    "    if scaler_loss < min_scaler_loss:\n",
    "        min_scaler_loss = scaler_loss\n",
    "        best_scaler = scaler\n",
    "print(f'best scaler: {best_scaler} loss: {min_scaler_loss}')"
   ]
  },
  {
   "cell_type": "code",
   "execution_count": 9,
   "metadata": {},
   "outputs": [],
   "source": [
    "scaler = StandardScaler()\n",
    "X_scaled = scaler.fit_transform(X)"
   ]
  },
  {
   "cell_type": "markdown",
   "metadata": {},
   "source": [
    "В дальнейшем не использовал масштабирование признаков так как это проводило к неадекватным результатам, при различных параметрах обучения"
   ]
  },
  {
   "cell_type": "markdown",
   "metadata": {},
   "source": [
    "Визуализируем изменение функции ошибки при различных значениях скорости обучения"
   ]
  },
  {
   "cell_type": "code",
   "execution_count": 10,
   "metadata": {},
   "outputs": [
    {
     "name": "stdout",
     "output_type": "stream",
     "text": [
      "0.0001 [ 0.47437348 -0.16761096  0.04089006  1.56894771] 2.3207568321112637\n",
      "1e-05 [ 0.49314177 -0.14151841 -0.00414786  1.52547952] 0.8471318040263481\n",
      "1e-06 [ 0.49571367 -0.13987934 -0.00243104  1.52220861] 0.6047007196667514\n"
     ]
    },
    {
     "data": {
      "image/png": "[encoded data removed]",
      "text/plain": [
       "<Figure size 2160x720 with 2 Axes>"
      ]
     },
     "metadata": {
      "needs_background": "light"
     },
     "output_type": "display_data"
    }
   ],
   "source": [
    "alpha_values = [1e-4, 1e-5, 1e-6]\n",
    "\n",
    "plt.rcParams[\"figure.figsize\"] = (30, 10)\n",
    "f, (ax1, ax2) = plt.subplots(1, 2)\n",
    "ax1.set_title('Изменение Функции потерь')\n",
    "ax2.set_title('Сумма квадратов весов модели')\n",
    "for alpha in alpha_values:\n",
    "    W, final_loss, err_history, W_history = eval_model(X, y, iterations=5000, alpha=alpha)\n",
    "    ax1.plot(err_history, label=f'alpha: {alpha}')\n",
    "    ax2.plot([sum(W ** 2) for W in W_history], label=f'alpha: {alpha}')\n",
    "    print(alpha, W, final_loss)\n",
    "plt.legend()\n",
    "plt.show()"
   ]
  },
  {
   "cell_type": "markdown",
   "metadata": {},
   "source": [
    "При увеличении скорости обучения модель переобучается, оптимальное значение скорости обучения для данной задачи alpha=1e-5, функция ошибки резко падает около 150 итераций, обучим модель при заданных параметрах\n"
   ]
  },
  {
   "cell_type": "code",
   "execution_count": 11,
   "metadata": {},
   "outputs": [
    {
     "data": {
      "text/plain": [
       "(array([ 0.49314177, -0.14151841, -0.00414786,  1.52547952]),\n",
       " 0.8471318040263481)"
      ]
     },
     "execution_count": 11,
     "metadata": {},
     "output_type": "execute_result"
    }
   ],
   "source": [
    "W, final_loss, err_history, W_history = eval_model(X, y, iterations=5000, alpha=1e-5)\n",
    "W, final_loss"
   ]
  },
  {
   "cell_type": "markdown",
   "metadata": {},
   "source": [
    "3. Создайте функцию calc_pred_proba, возвращающую предсказанную вероятность класса 1 (на вход подаются W, который уже посчитан функцией eval_model и X, на выходе - массив y_pred_proba)."
   ]
  },
  {
   "cell_type": "code",
   "execution_count": 12,
   "metadata": {},
   "outputs": [],
   "source": [
    "def calc_pred_proba(X, W):\n",
    "    return sigmoid(np.dot(W, X))"
   ]
  },
  {
   "cell_type": "code",
   "execution_count": 13,
   "metadata": {},
   "outputs": [
    {
     "data": {
      "text/plain": [
       "array([0.45095143, 0.26378276, 0.5374718 , 0.35169127, 0.05240864,\n",
       "       0.21422107, 0.13472611, 0.00955278, 0.50264141, 0.2917714 ])"
      ]
     },
     "execution_count": 13,
     "metadata": {},
     "output_type": "execute_result"
    }
   ],
   "source": [
    "calc_pred_proba(X, W)"
   ]
  },
  {
   "cell_type": "markdown",
   "metadata": {},
   "source": [
    "4. Создайте функцию calc_pred, возвращающую предсказанный класс (на вход подаются W, который уже посчитан функцией eval_model и X, на выходе - массив y_pred)."
   ]
  },
  {
   "cell_type": "code",
   "execution_count": 14,
   "metadata": {},
   "outputs": [],
   "source": [
    "def calc_pred(X, W, threshold=0.5):\n",
    "    return np.where(calc_pred_proba(X, W) >= threshold, 1, 0)"
   ]
  },
  {
   "cell_type": "code",
   "execution_count": 15,
   "metadata": {},
   "outputs": [
    {
     "data": {
      "text/plain": [
       "(array([0, 0, 1, 0, 0, 0, 0, 0, 1, 0]),\n",
       " array([0., 0., 1., 0., 1., 0., 1., 0., 1., 1.]))"
      ]
     },
     "execution_count": 15,
     "metadata": {},
     "output_type": "execute_result"
    }
   ],
   "source": [
    "y_pred = calc_pred(X, W)\n",
    "y_pred, y"
   ]
  },
  {
   "cell_type": "markdown",
   "metadata": {},
   "source": [
    "5. Посчитайте Accuracy, матрицу ошибок, точность и полноту, а также F1 score."
   ]
  },
  {
   "cell_type": "code",
   "execution_count": 16,
   "metadata": {},
   "outputs": [],
   "source": [
    "from sklearn.metrics import accuracy_score, precision_score, recall_score, f1_score, confusion_matrix"
   ]
  },
  {
   "cell_type": "code",
   "execution_count": 17,
   "metadata": {},
   "outputs": [
    {
     "name": "stdout",
     "output_type": "stream",
     "text": [
      "0.7\n"
     ]
    }
   ],
   "source": [
    "def calc_accuracy(y, y_pred):\n",
    "    return sum(y == y_pred) / len(y)\n",
    "\n",
    "accuracy = calc_accuracy(y, y_pred)\n",
    "assert accuracy == accuracy_score(y, y_pred)\n",
    "print(accuracy)"
   ]
  },
  {
   "cell_type": "code",
   "execution_count": 18,
   "metadata": {},
   "outputs": [],
   "source": [
    "def calc_confusion_matrix(y, y_pred):\n",
    "    pred_types = y + np.dot(2, y_pred)\n",
    "    TP = len(pred_types[pred_types == 3])\n",
    "    TN = len(pred_types[pred_types == 0])\n",
    "    FP = len(pred_types[pred_types == 2])\n",
    "    FN = len(pred_types[pred_types == 1])\n",
    "    return np.array([[TP, FN], [FP, TN]])"
   ]
  },
  {
   "cell_type": "code",
   "execution_count": 19,
   "metadata": {},
   "outputs": [
    {
     "name": "stdout",
     "output_type": "stream",
     "text": [
      "[[2 3]\n",
      " [0 5]]\n"
     ]
    }
   ],
   "source": [
    "cm = calc_confusion_matrix(y, y_pred)\n",
    "assert (cm == confusion_matrix(y, y_pred, labels=[1, 0])).all()\n",
    "print(cm)"
   ]
  },
  {
   "cell_type": "code",
   "execution_count": 20,
   "metadata": {},
   "outputs": [
    {
     "data": {
      "text/plain": [
       "(1.0, 0.4, 0.5714285714285715)"
      ]
     },
     "execution_count": 20,
     "metadata": {},
     "output_type": "execute_result"
    }
   ],
   "source": [
    "precision = cm[0][0] / sum(cm[:,0])\n",
    "recall = cm[0][0] / sum(cm[0])\n",
    "f1 = 2 * precision * recall / (precision + recall)\n",
    "assert precision == precision_score(y, y_pred)\n",
    "assert recall == recall_score(y, y_pred)\n",
    "assert f1 == f1_score(y, y_pred)\n",
    "precision, recall, f1"
   ]
  },
  {
   "cell_type": "markdown",
   "metadata": {},
   "source": [
    "6. Могла ли модель переобучиться? Почему?"
   ]
  },
  {
   "cell_type": "markdown",
   "metadata": {},
   "source": [
    "Исходя из анализа кривых обучения, модель склонна к переобучению при большом значении параметра скорости обучения"
   ]
  }
 ],
 "metadata": {
  "kernelspec": {
   "display_name": "Python 3",
   "language": "python",
   "name": "python3"
  },
  "language_info": {
   "codemirror_mode": {
    "name": "ipython",
    "version": 3
   },
   "file_extension": ".py",
   "mimetype": "text/x-python",
   "name": "python",
   "nbconvert_exporter": "python",
   "pygments_lexer": "ipython3",
   "version": "3.8.5"
  }
 },
 "nbformat": 4,
 "nbformat_minor": 4
}
